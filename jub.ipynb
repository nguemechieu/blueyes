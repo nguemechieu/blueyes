{
 "cells": [
  {
   "cell_type": "code",
   "execution_count": null,
   "metadata": {},
   "outputs": [],
   "source": [
    "import json\n",
    "data_store = 'data.json'\n",
    "class ToDo :\n",
    "    def __init__(self, data):\n",
    "        self.data = data\n",
    "        is_done = False\n",
    "\n",
    "        self.isComplete =True      \n",
    "\n"
   ]
  },
  {
   "cell_type": "code",
   "execution_count": null,
   "metadata": {},
   "outputs": [],
   "source": []
  }
 ],
 "metadata": {
  "kernelspec": {
   "display_name": "Python 3",
   "language": "python",
   "name": "python3"
  },
  "language_info": {
   "name": "python",
   "version": "3.10.-1"
  },
  "orig_nbformat": 4,
  "vscode": {
   "interpreter": {
    "hash": "1c220debea221b77b624f5a0280ec192d9f6b4c9331ada8df3e62e61e6e3e818"
   }
  }
 },
 "nbformat": 4,
 "nbformat_minor": 2
}
